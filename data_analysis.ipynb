{
 "cells": [
  {
   "cell_type": "code",
   "execution_count": 5,
   "metadata": {},
   "outputs": [],
   "source": [
    "from sklearn.model_selection import train_test_split\n",
    "from sklearn.preprocessing import StandardScaler\n",
    "from random import shuffle\n",
    "import numpy as np\n",
    "import pandas as pd \n",
    "import math\n",
    "from tensorflow import keras\n",
    "from tensorflow.keras.models import Sequential\n",
    "from tensorflow.keras.layers import Dense, LSTM, Dropout\n",
    "from tensorflow.keras.wrappers.scikit_learn import KerasRegressor\n",
    "from sklearn.model_selection import RandomizedSearchCV\n",
    "from sklearn.metrics import mean_absolute_error\n",
    "from tensorflow.keras.models import save_model, load_model\n",
    "import tensorflow as tf\n",
    "from keras.optimizers import Adam"
   ]
  },
  {
   "cell_type": "code",
   "execution_count": 6,
   "metadata": {},
   "outputs": [
    {
     "name": "stdout",
     "output_type": "stream",
     "text": [
      "(98770, 55)\n"
     ]
    }
   ],
   "source": [
    "df = pd.read_csv('data/data.csv')\n",
    "df = df.drop(['remove'], axis=1)\n",
    "\n",
    "df = df.drop(['ball_vel_y', 'ball_vel_angular'], axis=1)\n",
    "\n",
    "def remove_brackets(value):\n",
    "    if isinstance(value, float) and math.isnan(value):\n",
    "        return value\n",
    "    else:\n",
    "        return float(value.strip('[]'))\n",
    "\n",
    "cols_to_process = ['velocity1_x', 'velocity1_y', 'velocity2_x', 'velocity2_y', 'velocity3_x', 'velocity3_y']\n",
    "\n",
    "for col in cols_to_process:\n",
    "    df[col] = df[col].apply(remove_brackets)\n",
    "print(df.shape)\n",
    "\n",
    "df.dropna(axis=1, inplace=True)\n"
   ]
  },
  {
   "cell_type": "code",
   "execution_count": 7,
   "metadata": {},
   "outputs": [],
   "source": [
    "# process categorical data (one-hot encoding)\n",
    "\n",
    "scaler = StandardScaler()\n",
    "scaler.fit(df.iloc[:,:-6])\n",
    "df.iloc[:,:-6] = scaler.transform(df.iloc[:,:-6])\n",
    "\n",
    "X = df.iloc[:,:-6].values\n",
    "y = df.iloc[:,-6:].values\n",
    "\n",
    "zipped = list(zip(X, y))\n",
    "shuffle(zipped)\n",
    "X, y = zip(*zipped)\n",
    "X = np.array(X)\n",
    "y = np.array(y)\n",
    "\n",
    "# split data into train, validation, and test sets\n",
    "\n",
    "train_size = 0.7\n",
    "val_size = 0.15\n",
    "test_size = 0.15\n",
    "\n",
    "X_train, X_test, y_train, y_test = train_test_split(X, y, test_size=1-train_size, random_state=42)\n",
    "X_train, X_val, y_train, y_val = train_test_split(X_train, y_train, test_size=val_size/(train_size), random_state=42)\n",
    "\n"
   ]
  },
  {
   "cell_type": "code",
   "execution_count": 10,
   "metadata": {},
   "outputs": [],
   "source": [
    "def createModel(neurons=10, dropout_rate=0.0, optimizer='adam'):\n",
    "    '''\n",
    "    Returns a model with the given parameters\n",
    "    '''\n",
    "    model = Sequential()\n",
    "    model.add(Dense(neurons, input_dim=X_train.shape[1], activation='relu'))\n",
    "    model.add(Dropout(dropout_rate))\n",
    "    model.add(Dense(neurons, activation='relu'))\n",
    "    model.add(Dropout(dropout_rate))\n",
    "    model.add(Dense(neurons, activation='relu'))\n",
    "    model.add(Dropout(dropout_rate))\n",
    "    model.add(Dense(6, activation='linear'))\n",
    "    model.compile(loss='mean_squared_error', optimizer=optimizer, metrics=['mae'])\n",
    "    return model\n",
    " "
   ]
  },
  {
   "cell_type": "code",
   "execution_count": null,
   "metadata": {},
   "outputs": [],
   "source": [
    "   \n",
    "# Create model skeleton\n",
    "model = KerasRegressor(build_fn=createModel, verbose=0)\n",
    "\n",
    "# Define the grid search parameters\n",
    "param_grid = {'neurons': [16, 32, 64, 128, 256, 512],\n",
    "              'dropout_rate': [0.1, 0.2, 0.3],\n",
    "              'optimizer': ['adam', 'rmsprop', 'sgd']}\n",
    "\n",
    "# Create random search object for hyperparameter tuning\n",
    "random_search = RandomizedSearchCV(estimator=model,\n",
    "                                   param_distributions=param_grid,\n",
    "                                   n_iter=40,\n",
    "                                   cv=3,\n",
    "                                   scoring='neg_mean_absolute_error',\n",
    "                                   verbose=2,\n",
    "                                   random_state=42,\n",
    "                                   n_jobs=-1)\n",
    "# Fit the random search model\n",
    "random_search.fit(X_train, y_train, validation_data=(X_val, y_val))\n",
    "\n",
    "print(random_search.best_params_)\n",
    "print(random_search.best_score_)\n",
    "\n",
    "# Save the best model\n",
    "best_model = random_search.best_estimator_.model"
   ]
  },
  {
   "cell_type": "code",
   "execution_count": 12,
   "metadata": {},
   "outputs": [],
   "source": [
    "best_model.compile(loss='mean_squared_error', optimizer=Adam(learning_rate=0.001), metrics=['mae'])"
   ]
  },
  {
   "cell_type": "code",
   "execution_count": null,
   "metadata": {},
   "outputs": [],
   "source": [
    "best_model.fit(X_train, y_train, epochs=50, batch_size=32, validation_data=(X_val, y_val), verbose=2)\n",
    "save_model(best_model, 'model.h5')"
   ]
  },
  {
   "cell_type": "code",
   "execution_count": 9,
   "metadata": {},
   "outputs": [
    {
     "name": "stdout",
     "output_type": "stream",
     "text": [
      "Mean: [ 1.65510441e+01  6.42005904e+01  8.94212372e-02  1.65510441e+01\n",
      "  6.42005904e+01  8.85329880e-02  4.34983280e-01  6.64208878e+01\n",
      "  6.93509008e+01  5.05957660e-02  6.64208878e+01  6.93509008e+01\n",
      "  2.97748594e-01 -1.92022255e-01  1.03734671e+02  6.88322129e+01\n",
      "  4.63395051e-02  1.03734671e+02  6.88322129e+01  2.96937074e-01\n",
      " -1.14497455e-01  1.52950411e+02  6.96269495e+01 -1.22874701e-01\n",
      "  1.52950411e+02  6.96269495e+01  1.06364892e-01  8.08885246e-02\n",
      "  9.02936253e+01  7.11599194e+01 -5.09028486e-03  9.02936253e+01\n",
      "  7.11599194e+01  3.20527898e-01  4.50743994e-02  9.06454692e+01\n",
      "  6.56044599e+01 -5.62058617e-02  9.06454692e+01  6.56044599e+01\n",
      "  3.18317815e-01  3.30633161e-03  8.62609193e+01  6.91633990e+01\n",
      "  1.75436227e-03 -2.09226255e-03]\n",
      "Std: [ 3.43655299 16.12967017  1.69727564  3.43655299 16.12967017  0.1327474\n",
      " 10.27609563 28.95744014 35.5142359   1.74659594 28.95744014 35.5142359\n",
      "  0.27335641  6.33448019 28.08311063 35.33935959  1.67754992 28.08311063\n",
      " 35.33935959  0.27917339  5.99727834  4.41696717 19.01340948  1.70520502\n",
      "  4.41696717 19.01340948  0.1447116   1.88920938 34.01073081 32.22366871\n",
      "  1.84431681 34.01073081 32.22366871  0.29408733  5.46902976 34.19109656\n",
      " 30.65307559  1.86768453 34.19109656 30.65307559  0.29156107  5.50985884\n",
      " 49.04909374 39.89416615  0.34162245  0.37348818]\n"
     ]
    }
   ],
   "source": [
    "mean = scaler.mean_\n",
    "std = scaler.scale_\n",
    "\n",
    "print(\"Mean:\", mean)\n",
    "print(\"Std:\", std)"
   ]
  },
  {
   "cell_type": "code",
   "execution_count": 17,
   "metadata": {},
   "outputs": [
    {
     "name": "stdout",
     "output_type": "stream",
     "text": [
      "1698/1698 - 11s - loss: 208.2038 - mae: 7.8896 - val_loss: 205.5416 - val_mae: 7.9198 - 11s/epoch - 6ms/step\n"
     ]
    },
    {
     "data": {
      "text/plain": [
       "<keras.callbacks.History at 0x26efd597610>"
      ]
     },
     "execution_count": 17,
     "metadata": {},
     "output_type": "execute_result"
    }
   ],
   "source": [
    "model = load_model('model.h5', compile=False)\n",
    "model.compile(loss='mean_squared_error', optimizer='rmsprop', metrics=['mae'])\n"
   ]
  },
  {
   "cell_type": "code",
   "execution_count": 18,
   "metadata": {},
   "outputs": [
    {
     "name": "stdout",
     "output_type": "stream",
     "text": [
      "1698/1698 - 10s - loss: 167.6315 - mae: 7.3806 - val_loss: 210.3873 - val_mae: 8.2388 - 10s/epoch - 6ms/step\n"
     ]
    },
    {
     "data": {
      "text/plain": [
       "<keras.callbacks.History at 0x26fb4f8aaa0>"
      ]
     },
     "execution_count": 18,
     "metadata": {},
     "output_type": "execute_result"
    }
   ],
   "source": [
    "model.fit(X_train, y_train, epochs=1, batch_size=32, validation_data=(X_val, y_val), verbose=2)"
   ]
  }
 ],
 "metadata": {
  "kernelspec": {
   "display_name": "VSS",
   "language": "python",
   "name": "python3"
  },
  "language_info": {
   "codemirror_mode": {
    "name": "ipython",
    "version": 3
   },
   "file_extension": ".py",
   "mimetype": "text/x-python",
   "name": "python",
   "nbconvert_exporter": "python",
   "pygments_lexer": "ipython3",
   "version": "3.10.11"
  },
  "orig_nbformat": 4
 },
 "nbformat": 4,
 "nbformat_minor": 2
}
